{
 "cells": [
  {
   "cell_type": "code",
   "execution_count": null,
   "metadata": {
    "id": "oQ9SD-cUNV7s"
   },
   "outputs": [],
   "source": [
    "import pandas as pd\n",
    "df = pd.read_csv( './drive/MyDrive/Data/dontpatronizeme_pcl.tsv', sep = '\\t', names=['id','info','country', 'text','label'] )\n",
    "df"
   ]
  },
  {
   "cell_type": "code",
   "execution_count": null,
   "metadata": {
    "id": "klT3827qSfFA"
   },
   "outputs": [],
   "source": [
    "!pip install sentencepiece transformers\n"
   ]
  },
  {
   "cell_type": "code",
   "execution_count": 20,
   "metadata": {
    "colab": {
     "base_uri": "https://localhost:8080/",
     "height": 423
    },
    "executionInfo": {
     "elapsed": 32,
     "status": "ok",
     "timestamp": 1643226293732,
     "user": {
      "displayName": "Abhishek kumar Singh",
      "photoUrl": "https://lh3.googleusercontent.com/a/default-user=s64",
      "userId": "03453965687970289686"
     },
     "user_tz": -330
    },
    "id": "pfK93Kr0r0o7",
    "outputId": "c8e271d0-4572-4a0c-8f04-5c59cfacba2b"
   },
   "outputs": [
    {
     "data": {
      "text/html": [
       "\n",
       "  <div id=\"df-4ecad73d-5fac-47c7-a8d5-135e0f798fe2\">\n",
       "    <div class=\"colab-df-container\">\n",
       "      <div>\n",
       "<style scoped>\n",
       "    .dataframe tbody tr th:only-of-type {\n",
       "        vertical-align: middle;\n",
       "    }\n",
       "\n",
       "    .dataframe tbody tr th {\n",
       "        vertical-align: top;\n",
       "    }\n",
       "\n",
       "    .dataframe thead th {\n",
       "        text-align: right;\n",
       "    }\n",
       "</style>\n",
       "<table border=\"1\" class=\"dataframe\">\n",
       "  <thead>\n",
       "    <tr style=\"text-align: right;\">\n",
       "      <th></th>\n",
       "      <th>seq</th>\n",
       "      <th>id</th>\n",
       "      <th>info</th>\n",
       "      <th>country</th>\n",
       "      <th>text</th>\n",
       "      <th>label_</th>\n",
       "    </tr>\n",
       "  </thead>\n",
       "  <tbody>\n",
       "    <tr>\n",
       "      <th>0</th>\n",
       "      <td>t_0</td>\n",
       "      <td>@@7258997</td>\n",
       "      <td>vulnerable</td>\n",
       "      <td>us</td>\n",
       "      <td>In the meantime , conservatives are working to...</td>\n",
       "      <td>NaN</td>\n",
       "    </tr>\n",
       "    <tr>\n",
       "      <th>1</th>\n",
       "      <td>t_1</td>\n",
       "      <td>@@16397324</td>\n",
       "      <td>women</td>\n",
       "      <td>pk</td>\n",
       "      <td>In most poor households with no education chil...</td>\n",
       "      <td>NaN</td>\n",
       "    </tr>\n",
       "    <tr>\n",
       "      <th>2</th>\n",
       "      <td>t_2</td>\n",
       "      <td>@@16257812</td>\n",
       "      <td>migrant</td>\n",
       "      <td>ca</td>\n",
       "      <td>The real question is not whether immigration i...</td>\n",
       "      <td>NaN</td>\n",
       "    </tr>\n",
       "    <tr>\n",
       "      <th>3</th>\n",
       "      <td>t_3</td>\n",
       "      <td>@@3509652</td>\n",
       "      <td>migrant</td>\n",
       "      <td>gb</td>\n",
       "      <td>In total , the country 's immigrant population...</td>\n",
       "      <td>NaN</td>\n",
       "    </tr>\n",
       "    <tr>\n",
       "      <th>4</th>\n",
       "      <td>t_4</td>\n",
       "      <td>@@477506</td>\n",
       "      <td>vulnerable</td>\n",
       "      <td>ca</td>\n",
       "      <td>Members of the church , which is part of Ken C...</td>\n",
       "      <td>NaN</td>\n",
       "    </tr>\n",
       "    <tr>\n",
       "      <th>...</th>\n",
       "      <td>...</td>\n",
       "      <td>...</td>\n",
       "      <td>...</td>\n",
       "      <td>...</td>\n",
       "      <td>...</td>\n",
       "      <td>...</td>\n",
       "    </tr>\n",
       "    <tr>\n",
       "      <th>3827</th>\n",
       "      <td>t_3893</td>\n",
       "      <td>@@20319448</td>\n",
       "      <td>migrant</td>\n",
       "      <td>jm</td>\n",
       "      <td>In a letter dated Thursday to European Commiss...</td>\n",
       "      <td>NaN</td>\n",
       "    </tr>\n",
       "    <tr>\n",
       "      <th>3828</th>\n",
       "      <td>t_3894</td>\n",
       "      <td>@@9990672</td>\n",
       "      <td>poor-families</td>\n",
       "      <td>au</td>\n",
       "      <td>They discovered that poor families with health...</td>\n",
       "      <td>NaN</td>\n",
       "    </tr>\n",
       "    <tr>\n",
       "      <th>3829</th>\n",
       "      <td>t_3895</td>\n",
       "      <td>@@37984</td>\n",
       "      <td>migrant</td>\n",
       "      <td>ca</td>\n",
       "      <td>She married at 19 , to Milan ( Emil ) Badovina...</td>\n",
       "      <td>NaN</td>\n",
       "    </tr>\n",
       "    <tr>\n",
       "      <th>3830</th>\n",
       "      <td>t_3896</td>\n",
       "      <td>@@9691377</td>\n",
       "      <td>immigrant</td>\n",
       "      <td>us</td>\n",
       "      <td>The United Kingdom is n't going to devolve int...</td>\n",
       "      <td>NaN</td>\n",
       "    </tr>\n",
       "    <tr>\n",
       "      <th>3831</th>\n",
       "      <td>t_3897</td>\n",
       "      <td>@@26170085</td>\n",
       "      <td>poor-families</td>\n",
       "      <td>ng</td>\n",
       "      <td>This moral battle informed the recent defectio...</td>\n",
       "      <td>NaN</td>\n",
       "    </tr>\n",
       "  </tbody>\n",
       "</table>\n",
       "<p>3832 rows × 6 columns</p>\n",
       "</div>\n",
       "      <button class=\"colab-df-convert\" onclick=\"convertToInteractive('df-4ecad73d-5fac-47c7-a8d5-135e0f798fe2')\"\n",
       "              title=\"Convert this dataframe to an interactive table.\"\n",
       "              style=\"display:none;\">\n",
       "        \n",
       "  <svg xmlns=\"http://www.w3.org/2000/svg\" height=\"24px\"viewBox=\"0 0 24 24\"\n",
       "       width=\"24px\">\n",
       "    <path d=\"M0 0h24v24H0V0z\" fill=\"none\"/>\n",
       "    <path d=\"M18.56 5.44l.94 2.06.94-2.06 2.06-.94-2.06-.94-.94-2.06-.94 2.06-2.06.94zm-11 1L8.5 8.5l.94-2.06 2.06-.94-2.06-.94L8.5 2.5l-.94 2.06-2.06.94zm10 10l.94 2.06.94-2.06 2.06-.94-2.06-.94-.94-2.06-.94 2.06-2.06.94z\"/><path d=\"M17.41 7.96l-1.37-1.37c-.4-.4-.92-.59-1.43-.59-.52 0-1.04.2-1.43.59L10.3 9.45l-7.72 7.72c-.78.78-.78 2.05 0 2.83L4 21.41c.39.39.9.59 1.41.59.51 0 1.02-.2 1.41-.59l7.78-7.78 2.81-2.81c.8-.78.8-2.07 0-2.86zM5.41 20L4 18.59l7.72-7.72 1.47 1.35L5.41 20z\"/>\n",
       "  </svg>\n",
       "      </button>\n",
       "      \n",
       "  <style>\n",
       "    .colab-df-container {\n",
       "      display:flex;\n",
       "      flex-wrap:wrap;\n",
       "      gap: 12px;\n",
       "    }\n",
       "\n",
       "    .colab-df-convert {\n",
       "      background-color: #E8F0FE;\n",
       "      border: none;\n",
       "      border-radius: 50%;\n",
       "      cursor: pointer;\n",
       "      display: none;\n",
       "      fill: #1967D2;\n",
       "      height: 32px;\n",
       "      padding: 0 0 0 0;\n",
       "      width: 32px;\n",
       "    }\n",
       "\n",
       "    .colab-df-convert:hover {\n",
       "      background-color: #E2EBFA;\n",
       "      box-shadow: 0px 1px 2px rgba(60, 64, 67, 0.3), 0px 1px 3px 1px rgba(60, 64, 67, 0.15);\n",
       "      fill: #174EA6;\n",
       "    }\n",
       "\n",
       "    [theme=dark] .colab-df-convert {\n",
       "      background-color: #3B4455;\n",
       "      fill: #D2E3FC;\n",
       "    }\n",
       "\n",
       "    [theme=dark] .colab-df-convert:hover {\n",
       "      background-color: #434B5C;\n",
       "      box-shadow: 0px 1px 3px 1px rgba(0, 0, 0, 0.15);\n",
       "      filter: drop-shadow(0px 1px 2px rgba(0, 0, 0, 0.3));\n",
       "      fill: #FFFFFF;\n",
       "    }\n",
       "  </style>\n",
       "\n",
       "      <script>\n",
       "        const buttonEl =\n",
       "          document.querySelector('#df-4ecad73d-5fac-47c7-a8d5-135e0f798fe2 button.colab-df-convert');\n",
       "        buttonEl.style.display =\n",
       "          google.colab.kernel.accessAllowed ? 'block' : 'none';\n",
       "\n",
       "        async function convertToInteractive(key) {\n",
       "          const element = document.querySelector('#df-4ecad73d-5fac-47c7-a8d5-135e0f798fe2');\n",
       "          const dataTable =\n",
       "            await google.colab.kernel.invokeFunction('convertToInteractive',\n",
       "                                                     [key], {});\n",
       "          if (!dataTable) return;\n",
       "\n",
       "          const docLinkHtml = 'Like what you see? Visit the ' +\n",
       "            '<a target=\"_blank\" href=https://colab.research.google.com/notebooks/data_table.ipynb>data table notebook</a>'\n",
       "            + ' to learn more about interactive tables.';\n",
       "          element.innerHTML = '';\n",
       "          dataTable['output_type'] = 'display_data';\n",
       "          await google.colab.output.renderOutput(dataTable, element);\n",
       "          const docLink = document.createElement('div');\n",
       "          docLink.innerHTML = docLinkHtml;\n",
       "          element.appendChild(docLink);\n",
       "        }\n",
       "      </script>\n",
       "    </div>\n",
       "  </div>\n",
       "  "
      ],
      "text/plain": [
       "         seq  ... label_\n",
       "0        t_0  ...    NaN\n",
       "1        t_1  ...    NaN\n",
       "2        t_2  ...    NaN\n",
       "3        t_3  ...    NaN\n",
       "4        t_4  ...    NaN\n",
       "...      ...  ...    ...\n",
       "3827  t_3893  ...    NaN\n",
       "3828  t_3894  ...    NaN\n",
       "3829  t_3895  ...    NaN\n",
       "3830  t_3896  ...    NaN\n",
       "3831  t_3897  ...    NaN\n",
       "\n",
       "[3832 rows x 6 columns]"
      ]
     },
     "execution_count": 20,
     "metadata": {},
     "output_type": "execute_result"
    }
   ],
   "source": [
    "df_test_= pd.read_csv( './drive/MyDrive/Data/pcl_test.tsv', sep = '\\t', names=['seq','id','info','country', 'text','label_'] )\n",
    "df_test_"
   ]
  },
  {
   "cell_type": "code",
   "execution_count": null,
   "metadata": {
    "id": "Fjxr21hCs1Cy"
   },
   "outputs": [],
   "source": [
    "df_test= df_test_[['text']]\n",
    "df_test"
   ]
  },
  {
   "cell_type": "code",
   "execution_count": null,
   "metadata": {
    "id": "l2J5TYUN67u3"
   },
   "outputs": [],
   "source": [
    "df_test['label_'] = 1\n",
    "df_test"
   ]
  },
  {
   "cell_type": "code",
   "execution_count": null,
   "metadata": {
    "id": "d3VtkE7WTMP2"
   },
   "outputs": [],
   "source": [
    "import torch\n",
    "\n",
    "from transformers import RobertaTokenizer, RobertaModel\n",
    "import pandas as pd\n",
    "df = pd.read_csv('./drive/MyDrive/Data/dontpatronizeme_pcl.tsv', sep = '\\t', names=['id','info','country', 'text','label'] )\n",
    "\n",
    "df = df.dropna(inplace = False)\n",
    "\n",
    "df = df.reset_index(drop = True)\n",
    "df.info()\n",
    "\n",
    "# Importing the libraries needed\n",
    "import torch\n",
    "import transformers\n",
    "from torch.utils.data import Dataset, DataLoader\n",
    "from transformers import RobertaTokenizer, RobertaModel\n",
    "df_final = df[['text','label']]\n",
    "#df_data = data.dropna(subset=['id','info','country'])\n",
    "df_final                  \n",
    "\n",
    "df_final.shape\n",
    "#df_final.columns\n",
    "df_final['label_']= [ 0 if (y == 1 or y == 0) else 1 for y in df_final['label']]\n",
    "df_final\n",
    "df_final.drop('label', axis = 1, inplace= True)\n",
    "print(df_final)\n",
    "\n",
    "nclasses = len(list(df_final.label_.unique()))\n",
    "nclasses\n",
    "\n",
    "my_classes = {c:i for i, c in enumerate(list(df_final.label_.unique()))}\n",
    "df_final['label_'] = [my_classes[l] for l in df_final.label_]\n",
    "\n",
    "MAX_LEN= 512\n",
    "TRAIN_BS = 8\n",
    "VALID_BS = 8\n",
    "EPOCHS = 1\n",
    "LR =  1e-05\n",
    "#tokenizer = DistilBertTokenizer.from_pretrained('distilbert-base-uncased')\n",
    "tokenizer = RobertaTokenizer.from_pretrained('roberta-base')\n",
    "from torch import cuda\n",
    "device = 'cuda' if cuda.is_available() else 'cpu'\n",
    "\n",
    "class PclData(Dataset):\n",
    "    def __init__(self, dataframe, tokenizer, max_len):\n",
    "        self.len = len(dataframe)\n",
    "        self.data = dataframe\n",
    "        self.tokenizer = tokenizer\n",
    "        self.max_len = max_len\n",
    "        print(self.len); print(self.data)\n",
    "        \n",
    "    def __getitem__(self, index):# function compulsory\n",
    "        sent = self.data.text[index]\n",
    "       # sent = \" \".join(sent.split())\n",
    "        inputs = self.tokenizer.encode_plus(\n",
    "        sent, \n",
    "        None,\n",
    "        add_special_tokens = True,\n",
    "        max_length=self.max_len,\n",
    "        padding = 'max_length',\n",
    "        return_token_type_ids = True,\n",
    "        truncation=True\n",
    "        )\n",
    "        \n",
    "        ids = inputs['input_ids']\n",
    "        mask = inputs['attention_mask']\n",
    "        \n",
    "        return { 'ids': torch.tensor(ids, dtype=torch.long),\n",
    "               'mask': torch.tensor(mask, dtype=torch.long),\n",
    "                'targets': torch.tensor(self.data.label_[index], dtype=torch.long)\n",
    "                \n",
    "               }\n",
    "    \n",
    "    def __len__(self):\n",
    "        return self.len\n",
    "        "
   ]
  },
  {
   "cell_type": "code",
   "execution_count": null,
   "metadata": {
    "id": "zOf9q9aFTY2B"
   },
   "outputs": [],
   "source": [
    "train_size = 0.8\n",
    "train_dataset = df_final.sample(frac= train_size, random_state=20)\n",
    "val_dataset = df_final.drop(train_dataset.index).reset_index(drop=True)\n",
    "train_dataset = train_dataset.reset_index(drop=True)\n",
    "test_dataset = df_test\n",
    "\n",
    "#train_dataset_1 = [ 0 if (y == 1 or y == 0) else 1 for y in train_dataset ]\n",
    "#test_dataset_1 = [ 0 if (y == 1 or y == 0) else 1 for y in test_dataset ]\n",
    "\n",
    "\n",
    "print(\"FULL Dataset: {}\".format(df_final.shape))\n",
    "print(\"TRAIN Dataset: {}\".format(train_dataset.shape))\n",
    "print(\"TEST Dataset: {}\".format(val_dataset.shape))\n",
    "\n",
    "training_set = PclData(train_dataset, tokenizer, MAX_LEN)\n",
    "val_set = PclData(val_dataset, tokenizer, MAX_LEN)\n",
    "test_set= PclData(test_dataset, tokenizer, MAX_LEN)\n",
    "\n",
    "train_params = {'batch_size': TRAIN_BS,\n",
    "               'shuffle':True,\n",
    "               'num_workers': 2}\n",
    "val_params = {'batch_size': VALID_BS,\n",
    "              'shuffle': False,\n",
    "              'num_workers': 2}\n",
    "\n",
    "trainloader = DataLoader(training_set, **train_params)\n",
    "valloader = DataLoader(val_set, **val_params)\n",
    "testloader = DataLoader(test_set, **val_params)"
   ]
  },
  {
   "cell_type": "code",
   "execution_count": 11,
   "metadata": {
    "executionInfo": {
     "elapsed": 711,
     "status": "ok",
     "timestamp": 1643222746987,
     "user": {
      "displayName": "Abhishek kumar Singh",
      "photoUrl": "https://lh3.googleusercontent.com/a/default-user=s64",
      "userId": "03453965687970289686"
     },
     "user_tz": -330
    },
    "id": "Ry83xgwMn_jW"
   },
   "outputs": [],
   "source": [
    "class RobertaModelClass (torch.nn.Module):\n",
    "    def __init__(self, nclasses):\n",
    "        super(RobertaModelClass, self).__init__()\n",
    "        self.l1 = RobertaModel.from_pretrained('roberta-base')\n",
    "        self.pre_classifier = torch.nn.Linear(768, 768)\n",
    "        self.dropout = torch.nn.Dropout(0.3)\n",
    "        self.classifier = torch.nn.Linear(768, nclasses)\n",
    "\n",
    "    def forward(self, input_ids, attention_mask):\n",
    "        with torch.autograd.no_grad():\n",
    "            output_1 = self.l1(input_ids=input_ids, attention_mask=attention_mask)\n",
    "        hidden_state = output_1[0]\n",
    "        pooler = hidden_state[:, 0]\n",
    "        pooler = self.pre_classifier(pooler)\n",
    "        pooler = torch.nn.ReLU()(pooler)\n",
    "        pooler = self.dropout(pooler)\n",
    "        output = self.classifier(pooler)\n",
    "        return output"
   ]
  },
  {
   "cell_type": "code",
   "execution_count": null,
   "metadata": {
    "id": "nxXvGk81pBey"
   },
   "outputs": [],
   "source": [
    "model = RobertaModelClass(nclasses)\n",
    "model.to(device)"
   ]
  },
  {
   "cell_type": "code",
   "execution_count": 13,
   "metadata": {
    "colab": {
     "base_uri": "https://localhost:8080/"
    },
    "executionInfo": {
     "elapsed": 383,
     "status": "ok",
     "timestamp": 1643222793492,
     "user": {
      "displayName": "Abhishek kumar Singh",
      "photoUrl": "https://lh3.googleusercontent.com/a/default-user=s64",
      "userId": "03453965687970289686"
     },
     "user_tz": -330
    },
    "id": "ONUmTWF_7Yp7",
    "outputId": "02775ce8-2828-495b-daeb-2a0cf1e0cee6"
   },
   "outputs": [
    {
     "data": {
      "text/plain": [
       "array([0.55240106, 5.27089627])"
      ]
     },
     "execution_count": 13,
     "metadata": {},
     "output_type": "execute_result"
    }
   ],
   "source": [
    "import numpy as np\n",
    "wt_array =len(df_final['text'])/(len(set(df_final['label_']))*(np.bincount(df_final['label_'])))\n",
    "wt_array"
   ]
  },
  {
   "cell_type": "code",
   "execution_count": 14,
   "metadata": {
    "executionInfo": {
     "elapsed": 412,
     "status": "ok",
     "timestamp": 1643222795728,
     "user": {
      "displayName": "Abhishek kumar Singh",
      "photoUrl": "https://lh3.googleusercontent.com/a/default-user=s64",
      "userId": "03453965687970289686"
     },
     "user_tz": -330
    },
    "id": "nw83X3vw7pIC"
   },
   "outputs": [],
   "source": [
    "class_weights=torch.FloatTensor(wt_array).cuda()"
   ]
  },
  {
   "cell_type": "code",
   "execution_count": 15,
   "metadata": {
    "executionInfo": {
     "elapsed": 408,
     "status": "ok",
     "timestamp": 1643222798596,
     "user": {
      "displayName": "Abhishek kumar Singh",
      "photoUrl": "https://lh3.googleusercontent.com/a/default-user=s64",
      "userId": "03453965687970289686"
     },
     "user_tz": -330
    },
    "id": "umH-JoN3pVD7"
   },
   "outputs": [],
   "source": [
    "loss_function = torch.nn.CrossEntropyLoss(weight=class_weights)\n",
    "optimizer = torch.optim.Adam(params =model.parameters(), lr=LR)\n",
    "def calculate_acc(big_idx, targets):\n",
    "    n_correct = (big_idx==targets).sum().item()\n",
    "    return n_correct\n"
   ]
  },
  {
   "cell_type": "code",
   "execution_count": 16,
   "metadata": {
    "executionInfo": {
     "elapsed": 2750,
     "status": "ok",
     "timestamp": 1643222807114,
     "user": {
      "displayName": "Abhishek kumar Singh",
      "photoUrl": "https://lh3.googleusercontent.com/a/default-user=s64",
      "userId": "03453965687970289686"
     },
     "user_tz": -330
    },
    "id": "ZX14KNQmrDhQ"
   },
   "outputs": [],
   "source": [
    "from tqdm import tqdm\n",
    "from torch.utils.tensorboard import SummaryWriter\n",
    "writer = SummaryWriter('runs/textclassify_experiment_1')\n"
   ]
  },
  {
   "cell_type": "code",
   "execution_count": 17,
   "metadata": {
    "executionInfo": {
     "elapsed": 1026,
     "status": "ok",
     "timestamp": 1643222815697,
     "user": {
      "displayName": "Abhishek kumar Singh",
      "photoUrl": "https://lh3.googleusercontent.com/a/default-user=s64",
      "userId": "03453965687970289686"
     },
     "user_tz": -330
    },
    "id": "6PfZBRYnrHKI"
   },
   "outputs": [],
   "source": [
    "def train(epoch):\n",
    "    tr_loss = 0\n",
    "    n_correct = 0\n",
    "    nb_tr_steps = 0\n",
    "    nb_tr_examples = 0\n",
    "    \n",
    "    model.train()\n",
    "    for _, data in tqdm(enumerate(trainloader, 0)):\n",
    "        ids = data['ids'].to(device, dtype=torch.long)\n",
    "        mask = data['mask'].to(device, dtype=torch.long)\n",
    "        targets = data['targets'].to(device, dtype=torch.long)\n",
    "        \n",
    "        outputs = model(ids, mask)\n",
    "        loss = loss_function(outputs, targets)\n",
    "        tr_loss += loss.item()\n",
    "        big_val, big_idx = torch.max(outputs.data, dim=1)\n",
    "        n_correct += calculate_acc(big_idx, targets)\n",
    "        \n",
    "        nb_tr_steps += 1\n",
    "        nb_tr_examples += targets.size(0)\n",
    "        \n",
    "        if _ % 50 == 0:\n",
    "            \n",
    "            loss_step = tr_loss/nb_tr_steps\n",
    "            acc_step = (n_correct*100)/nb_tr_examples\n",
    "            print(f'Training Loss per 50 steps: {loss_step}, Training Accuracy: {acc_step}')\n",
    "            writer.add_scalar('training_loss', loss_step, epoch*len(trainloader) +_)\n",
    "            \n",
    "            \n",
    "        optimizer.zero_grad()\n",
    "        loss.backward()\n",
    "        \n",
    "        optimizer.step()\n",
    "        \n",
    "    print(f'Total Accuracy Epoch {epoch}: {(n_correct*100)/nb_tr_examples}')\n",
    "    epoch_loss = tr_loss/nb_tr_steps\n",
    "    epoch_acc = (n_correct*100)/nb_tr_examples\n",
    "    print(f'Training Loss Epoch: {epoch_loss}, Training Accuracy Epoch: {epoch_acc}')\n",
    "    valid(model, valloader)\n",
    "    return"
   ]
  },
  {
   "cell_type": "code",
   "execution_count": 18,
   "metadata": {
    "executionInfo": {
     "elapsed": 374,
     "status": "ok",
     "timestamp": 1643222826923,
     "user": {
      "displayName": "Abhishek kumar Singh",
      "photoUrl": "https://lh3.googleusercontent.com/a/default-user=s64",
      "userId": "03453965687970289686"
     },
     "user_tz": -330
    },
    "id": "ONoUGedzrOCa"
   },
   "outputs": [],
   "source": [
    "# Validation\n",
    "\n",
    "def valid(model, testloader):\n",
    "    model.eval()\n",
    "    n_correct =0; n_wrong =0; total=0; tr_loss =0; nb_tr_steps =0; nb_tr_examples=0\n",
    "    y_pred, y_true = [],[]\n",
    "    with torch.no_grad():\n",
    "        for _, data in enumerate(testloader, 0):\n",
    "            ids = data['ids'].to(device, dtype=torch.long)\n",
    "            mask = data['mask'].to(device, dtype=torch.long)\n",
    "            targets = data['targets'].to(device, dtype=torch.long)\n",
    "            \n",
    "            outputs = model(ids, mask)\n",
    "            loss = loss_function(outputs, targets)\n",
    "            tr_loss += loss.item()\n",
    "            big_val, big_idx = torch.max(outputs.data, dim=1)\n",
    "            n_correct += calculate_acc(big_idx, targets)\n",
    "\n",
    "            y_true.extend(targets.cpu().detach().numpy())\n",
    "      \n",
    "            y_pred.extend(torch.argmax(outputs, dim=1).cpu().detach().numpy())\n",
    "            nb_tr_steps += 1\n",
    "            nb_tr_examples += targets.size(0)\n",
    "            \n",
    "            if _ % 100 == 0:\n",
    "                loss_step = tr_loss/nb_tr_steps\n",
    "                acc_step = (n_correct*100)/nb_tr_examples\n",
    "                print(f'Validation Loss per 100 steps: {loss_step}, Validation Accuracy per: {acc_step}')   \n",
    "        \n",
    "    epoch_loss = tr_loss/nb_tr_steps\n",
    "    epoch_acc = (n_correct*100)/nb_tr_examples\n",
    "    print(f'Validation Loss Epoch: {epoch_loss}, Validation Accuracy Epoch: {epoch_acc}')\n",
    "    \n",
    "    return epoch_acc, y_true, y_pred"
   ]
  },
  {
   "cell_type": "code",
   "execution_count": 19,
   "metadata": {
    "colab": {
     "base_uri": "https://localhost:8080/"
    },
    "executionInfo": {
     "elapsed": 3452708,
     "status": "ok",
     "timestamp": 1643226293011,
     "user": {
      "displayName": "Abhishek kumar Singh",
      "photoUrl": "https://lh3.googleusercontent.com/a/default-user=s64",
      "userId": "03453965687970289686"
     },
     "user_tz": -330
    },
    "id": "5280kYfwrThg",
    "outputId": "8041ea15-e0ce-4b66-e2aa-a881c01ec434"
   },
   "outputs": [
    {
     "name": "stderr",
     "output_type": "stream",
     "text": [
      "\r",
      "0it [00:00, ?it/s]"
     ]
    },
    {
     "name": "stdout",
     "output_type": "stream",
     "text": [
      "Training Loss per 50 steps: 0.7471062541007996, Training Accuracy: 12.5\n",
      "Validation Loss per 100 steps: 0.7198158502578735, Validation Accuracy per: 0.0\n",
      "Validation Loss per 100 steps: 0.698964268264204, Validation Accuracy per: 10.891089108910892\n",
      "Validation Loss per 100 steps: 0.6997426780895214, Validation Accuracy per: 10.572139303482587\n"
     ]
    },
    {
     "name": "stderr",
     "output_type": "stream",
     "text": [
      "\r",
      "1it [02:21, 141.63s/it]"
     ]
    },
    {
     "name": "stdout",
     "output_type": "stream",
     "text": [
      "Validation Loss Epoch: 0.7002603311575096, Validation Accuracy Epoch: 10.02865329512894\n"
     ]
    },
    {
     "name": "stderr",
     "output_type": "stream",
     "text": [
      "50it [02:47,  1.88it/s]"
     ]
    },
    {
     "name": "stdout",
     "output_type": "stream",
     "text": [
      "Training Loss per 50 steps: 0.691006509696736, Training Accuracy: 63.23529411764706\n",
      "Validation Loss per 100 steps: 0.6524024605751038, Validation Accuracy per: 100.0\n",
      "Validation Loss per 100 steps: 0.6853632950546718, Validation Accuracy per: 89.10891089108911\n",
      "Validation Loss per 100 steps: 0.6836219275768717, Validation Accuracy per: 89.42786069651741\n"
     ]
    },
    {
     "name": "stderr",
     "output_type": "stream",
     "text": [
      "\r",
      "51it [05:05, 41.70s/it]"
     ]
    },
    {
     "name": "stdout",
     "output_type": "stream",
     "text": [
      "Validation Loss Epoch: 0.6826431776276072, Validation Accuracy Epoch: 89.97134670487107\n"
     ]
    },
    {
     "name": "stderr",
     "output_type": "stream",
     "text": [
      "100it [05:31,  1.89it/s]"
     ]
    },
    {
     "name": "stdout",
     "output_type": "stream",
     "text": [
      "Training Loss per 50 steps: 0.6831952964905466, Training Accuracy: 77.22772277227723\n",
      "Validation Loss per 100 steps: 0.6108592748641968, Validation Accuracy per: 100.0\n",
      "Validation Loss per 100 steps: 0.6787408560809522, Validation Accuracy per: 89.10891089108911\n",
      "Validation Loss per 100 steps: 0.6753672465163084, Validation Accuracy per: 89.42786069651741\n"
     ]
    },
    {
     "name": "stderr",
     "output_type": "stream",
     "text": [
      "\r",
      "101it [07:49, 41.71s/it]"
     ]
    },
    {
     "name": "stdout",
     "output_type": "stream",
     "text": [
      "Validation Loss Epoch: 0.6733933543885937, Validation Accuracy Epoch: 89.97134670487107\n"
     ]
    },
    {
     "name": "stderr",
     "output_type": "stream",
     "text": [
      "150it [08:15,  1.89it/s]"
     ]
    },
    {
     "name": "stdout",
     "output_type": "stream",
     "text": [
      "Training Loss per 50 steps: 0.6793495862689239, Training Accuracy: 80.96026490066225\n",
      "Validation Loss per 100 steps: 0.5826879143714905, Validation Accuracy per: 100.0\n",
      "Validation Loss per 100 steps: 0.675155784824107, Validation Accuracy per: 89.10891089108911\n",
      "Validation Loss per 100 steps: 0.6706389565372941, Validation Accuracy per: 89.42786069651741\n"
     ]
    },
    {
     "name": "stderr",
     "output_type": "stream",
     "text": [
      "\r",
      "151it [10:32, 41.70s/it]"
     ]
    },
    {
     "name": "stdout",
     "output_type": "stream",
     "text": [
      "Validation Loss Epoch: 0.667956625687257, Validation Accuracy Epoch: 89.97134670487107\n"
     ]
    },
    {
     "name": "stderr",
     "output_type": "stream",
     "text": [
      "200it [10:58,  1.89it/s]"
     ]
    },
    {
     "name": "stdout",
     "output_type": "stream",
     "text": [
      "Training Loss per 50 steps: 0.6769654602553714, Training Accuracy: 83.27114427860697\n",
      "Validation Loss per 100 steps: 0.5609681010246277, Validation Accuracy per: 100.0\n",
      "Validation Loss per 100 steps: 0.6729000694680922, Validation Accuracy per: 89.10891089108911\n",
      "Validation Loss per 100 steps: 0.6674473887652307, Validation Accuracy per: 89.42786069651741\n"
     ]
    },
    {
     "name": "stderr",
     "output_type": "stream",
     "text": [
      "\r",
      "201it [13:16, 41.71s/it]"
     ]
    },
    {
     "name": "stdout",
     "output_type": "stream",
     "text": [
      "Validation Loss Epoch: 0.6642055015527565, Validation Accuracy Epoch: 89.97134670487107\n"
     ]
    },
    {
     "name": "stderr",
     "output_type": "stream",
     "text": [
      "250it [13:42,  1.89it/s]"
     ]
    },
    {
     "name": "stdout",
     "output_type": "stream",
     "text": [
      "Training Loss per 50 steps: 0.6751660056323169, Training Accuracy: 84.56175298804781\n",
      "Validation Loss per 100 steps: 0.5498192310333252, Validation Accuracy per: 100.0\n",
      "Validation Loss per 100 steps: 0.6718361590168264, Validation Accuracy per: 89.10891089108911\n",
      "Validation Loss per 100 steps: 0.66587121480733, Validation Accuracy per: 89.42786069651741\n"
     ]
    },
    {
     "name": "stderr",
     "output_type": "stream",
     "text": [
      "\r",
      "251it [16:00, 41.84s/it]"
     ]
    },
    {
     "name": "stdout",
     "output_type": "stream",
     "text": [
      "Validation Loss Epoch: 0.6623189640409164, Validation Accuracy Epoch: 89.97134670487107\n"
     ]
    },
    {
     "name": "stderr",
     "output_type": "stream",
     "text": [
      "300it [16:26,  1.88it/s]"
     ]
    },
    {
     "name": "stdout",
     "output_type": "stream",
     "text": [
      "Training Loss per 50 steps: 0.6701164740660658, Training Accuracy: 85.71428571428571\n",
      "Validation Loss per 100 steps: 0.5251668095588684, Validation Accuracy per: 100.0\n",
      "Validation Loss per 100 steps: 0.6704476351785188, Validation Accuracy per: 89.10891089108911\n",
      "Validation Loss per 100 steps: 0.6633826844134734, Validation Accuracy per: 89.42786069651741\n"
     ]
    },
    {
     "name": "stderr",
     "output_type": "stream",
     "text": [
      "\r",
      "301it [18:45, 42.06s/it]"
     ]
    },
    {
     "name": "stdout",
     "output_type": "stream",
     "text": [
      "Validation Loss Epoch: 0.659164187334876, Validation Accuracy Epoch: 89.97134670487107\n"
     ]
    },
    {
     "name": "stderr",
     "output_type": "stream",
     "text": [
      "350it [19:11,  1.88it/s]"
     ]
    },
    {
     "name": "stdout",
     "output_type": "stream",
     "text": [
      "Training Loss per 50 steps: 0.6664569646204979, Training Accuracy: 86.46723646723646\n",
      "Validation Loss per 100 steps: 0.5012662410736084, Validation Accuracy per: 100.0\n",
      "Validation Loss per 100 steps: 0.6698541558615052, Validation Accuracy per: 89.10891089108911\n",
      "Validation Loss per 100 steps: 0.6617024070884457, Validation Accuracy per: 89.42786069651741\n"
     ]
    },
    {
     "name": "stderr",
     "output_type": "stream",
     "text": [
      "\r",
      "351it [21:29, 41.80s/it]"
     ]
    },
    {
     "name": "stdout",
     "output_type": "stream",
     "text": [
      "Validation Loss Epoch: 0.6568154647150113, Validation Accuracy Epoch: 89.97134670487107\n"
     ]
    },
    {
     "name": "stderr",
     "output_type": "stream",
     "text": [
      "400it [21:55,  1.88it/s]"
     ]
    },
    {
     "name": "stdout",
     "output_type": "stream",
     "text": [
      "Training Loss per 50 steps: 0.6644353343364306, Training Accuracy: 87.03241895261846\n",
      "Validation Loss per 100 steps: 0.4949541687965393, Validation Accuracy per: 100.0\n",
      "Validation Loss per 100 steps: 0.6695137968157777, Validation Accuracy per: 89.10891089108911\n",
      "Validation Loss per 100 steps: 0.6611034830114735, Validation Accuracy per: 89.42786069651741\n"
     ]
    },
    {
     "name": "stderr",
     "output_type": "stream",
     "text": [
      "\r",
      "401it [24:13, 41.77s/it]"
     ]
    },
    {
     "name": "stdout",
     "output_type": "stream",
     "text": [
      "Validation Loss Epoch: 0.6560278768075332, Validation Accuracy Epoch: 89.97134670487107\n"
     ]
    },
    {
     "name": "stderr",
     "output_type": "stream",
     "text": [
      "450it [24:39,  1.88it/s]"
     ]
    },
    {
     "name": "stdout",
     "output_type": "stream",
     "text": [
      "Training Loss per 50 steps: 0.6608888993242099, Training Accuracy: 87.55543237250555\n",
      "Validation Loss per 100 steps: 0.4671137034893036, Validation Accuracy per: 100.0\n",
      "Validation Loss per 100 steps: 0.6702853848438451, Validation Accuracy per: 89.10891089108911\n",
      "Validation Loss per 100 steps: 0.6605162630923351, Validation Accuracy per: 89.42786069651741\n"
     ]
    },
    {
     "name": "stderr",
     "output_type": "stream",
     "text": [
      "\r",
      "451it [26:57, 41.72s/it]"
     ]
    },
    {
     "name": "stdout",
     "output_type": "stream",
     "text": [
      "Validation Loss Epoch: 0.654603733247473, Validation Accuracy Epoch: 89.97134670487107\n"
     ]
    },
    {
     "name": "stderr",
     "output_type": "stream",
     "text": [
      "500it [27:23,  1.89it/s]"
     ]
    },
    {
     "name": "stdout",
     "output_type": "stream",
     "text": [
      "Training Loss per 50 steps: 0.6572631136504952, Training Accuracy: 87.94910179640719\n",
      "Validation Loss per 100 steps: 0.45408299565315247, Validation Accuracy per: 100.0\n",
      "Validation Loss per 100 steps: 0.6710539725747439, Validation Accuracy per: 89.10891089108911\n",
      "Validation Loss per 100 steps: 0.6606391748385643, Validation Accuracy per: 89.42786069651741\n"
     ]
    },
    {
     "name": "stderr",
     "output_type": "stream",
     "text": [
      "\r",
      "501it [29:41, 41.72s/it]"
     ]
    },
    {
     "name": "stdout",
     "output_type": "stream",
     "text": [
      "Validation Loss Epoch: 0.6543321687984103, Validation Accuracy Epoch: 89.97134670487107\n"
     ]
    },
    {
     "name": "stderr",
     "output_type": "stream",
     "text": [
      "550it [30:07,  1.88it/s]"
     ]
    },
    {
     "name": "stdout",
     "output_type": "stream",
     "text": [
      "Training Loss per 50 steps: 0.6561420049295235, Training Accuracy: 88.18058076225046\n",
      "Validation Loss per 100 steps: 0.4444313943386078, Validation Accuracy per: 100.0\n",
      "Validation Loss per 100 steps: 0.6716415141478623, Validation Accuracy per: 89.10891089108911\n",
      "Validation Loss per 100 steps: 0.660720616134245, Validation Accuracy per: 89.42786069651741\n"
     ]
    },
    {
     "name": "stderr",
     "output_type": "stream",
     "text": [
      "\r",
      "551it [32:25, 41.93s/it]"
     ]
    },
    {
     "name": "stdout",
     "output_type": "stream",
     "text": [
      "Validation Loss Epoch: 0.6541061094244018, Validation Accuracy Epoch: 89.97134670487107\n"
     ]
    },
    {
     "name": "stderr",
     "output_type": "stream",
     "text": [
      "600it [32:52,  1.87it/s]"
     ]
    },
    {
     "name": "stdout",
     "output_type": "stream",
     "text": [
      "Training Loss per 50 steps: 0.6546612152343185, Training Accuracy: 88.39434276206323\n",
      "Validation Loss per 100 steps: 0.4400341808795929, Validation Accuracy per: 100.0\n",
      "Validation Loss per 100 steps: 0.6718145561690377, Validation Accuracy per: 89.10891089108911\n",
      "Validation Loss per 100 steps: 0.6606643294813621, Validation Accuracy per: 89.42786069651741\n"
     ]
    },
    {
     "name": "stderr",
     "output_type": "stream",
     "text": [
      "\r",
      "601it [35:11, 42.32s/it]"
     ]
    },
    {
     "name": "stdout",
     "output_type": "stream",
     "text": [
      "Validation Loss Epoch: 0.6539075817088135, Validation Accuracy Epoch: 89.97134670487107\n"
     ]
    },
    {
     "name": "stderr",
     "output_type": "stream",
     "text": [
      "650it [35:38,  1.87it/s]"
     ]
    },
    {
     "name": "stdout",
     "output_type": "stream",
     "text": [
      "Training Loss per 50 steps: 0.653177033096964, Training Accuracy: 88.63287250384025\n",
      "Validation Loss per 100 steps: 0.4403420686721802, Validation Accuracy per: 100.0\n",
      "Validation Loss per 100 steps: 0.6714855768893024, Validation Accuracy per: 89.10891089108911\n",
      "Validation Loss per 100 steps: 0.6603473072028279, Validation Accuracy per: 89.42786069651741\n"
     ]
    },
    {
     "name": "stderr",
     "output_type": "stream",
     "text": [
      "\r",
      "651it [37:58, 42.33s/it]"
     ]
    },
    {
     "name": "stdout",
     "output_type": "stream",
     "text": [
      "Validation Loss Epoch: 0.6535882823567354, Validation Accuracy Epoch: 89.97134670487107\n"
     ]
    },
    {
     "name": "stderr",
     "output_type": "stream",
     "text": [
      "700it [38:24,  1.87it/s]"
     ]
    },
    {
     "name": "stdout",
     "output_type": "stream",
     "text": [
      "Training Loss per 50 steps: 0.652721078734255, Training Accuracy: 88.80171184022825\n",
      "Validation Loss per 100 steps: 0.4405556619167328, Validation Accuracy per: 100.0\n",
      "Validation Loss per 100 steps: 0.6711395202886941, Validation Accuracy per: 89.10891089108911\n",
      "Validation Loss per 100 steps: 0.6600110173521944, Validation Accuracy per: 89.42786069651741\n"
     ]
    },
    {
     "name": "stderr",
     "output_type": "stream",
     "text": [
      "\r",
      "701it [40:44, 42.31s/it]"
     ]
    },
    {
     "name": "stdout",
     "output_type": "stream",
     "text": [
      "Validation Loss Epoch: 0.6532432597329598, Validation Accuracy Epoch: 89.97134670487107\n"
     ]
    },
    {
     "name": "stderr",
     "output_type": "stream",
     "text": [
      "750it [41:10,  1.87it/s]"
     ]
    },
    {
     "name": "stdout",
     "output_type": "stream",
     "text": [
      "Training Loss per 50 steps: 0.6499860109724154, Training Accuracy: 89.01464713715046\n",
      "Validation Loss per 100 steps: 0.43468546867370605, Validation Accuracy per: 100.0\n",
      "Validation Loss per 100 steps: 0.6715403078216138, Validation Accuracy per: 89.10891089108911\n",
      "Validation Loss per 100 steps: 0.6601038699719444, Validation Accuracy per: 89.42786069651741\n"
     ]
    },
    {
     "name": "stderr",
     "output_type": "stream",
     "text": [
      "\r",
      "751it [43:29, 42.01s/it]"
     ]
    },
    {
     "name": "stdout",
     "output_type": "stream",
     "text": [
      "Validation Loss Epoch: 0.6531356445705617, Validation Accuracy Epoch: 89.97134670487107\n"
     ]
    },
    {
     "name": "stderr",
     "output_type": "stream",
     "text": [
      "800it [43:55,  1.89it/s]"
     ]
    },
    {
     "name": "stdout",
     "output_type": "stream",
     "text": [
      "Training Loss per 50 steps: 0.6528137146161588, Training Accuracy: 88.93570536828963\n",
      "Validation Loss per 100 steps: 0.4413609802722931, Validation Accuracy per: 100.0\n",
      "Validation Loss per 100 steps: 0.6704334362898723, Validation Accuracy per: 89.10891089108911\n",
      "Validation Loss per 100 steps: 0.6593081319510047, Validation Accuracy per: 89.42786069651741\n"
     ]
    },
    {
     "name": "stderr",
     "output_type": "stream",
     "text": [
      "\r",
      "801it [46:13, 41.70s/it]"
     ]
    },
    {
     "name": "stdout",
     "output_type": "stream",
     "text": [
      "Validation Loss Epoch: 0.6525321475422109, Validation Accuracy Epoch: 89.97134670487107\n"
     ]
    },
    {
     "name": "stderr",
     "output_type": "stream",
     "text": [
      "850it [46:38,  1.90it/s]"
     ]
    },
    {
     "name": "stdout",
     "output_type": "stream",
     "text": [
      "Training Loss per 50 steps: 0.6523861547474575, Training Accuracy: 88.99823736780259\n",
      "Validation Loss per 100 steps: 0.44724470376968384, Validation Accuracy per: 100.0\n",
      "Validation Loss per 100 steps: 0.6694547454319378, Validation Accuracy per: 89.10891089108911\n",
      "Validation Loss per 100 steps: 0.6586135443466813, Validation Accuracy per: 89.42786069651741\n"
     ]
    },
    {
     "name": "stderr",
     "output_type": "stream",
     "text": [
      "\r",
      "851it [48:56, 41.72s/it]"
     ]
    },
    {
     "name": "stdout",
     "output_type": "stream",
     "text": [
      "Validation Loss Epoch: 0.6519977684694392, Validation Accuracy Epoch: 89.97134670487107\n"
     ]
    },
    {
     "name": "stderr",
     "output_type": "stream",
     "text": [
      "900it [49:22,  1.88it/s]"
     ]
    },
    {
     "name": "stdout",
     "output_type": "stream",
     "text": [
      "Training Loss per 50 steps: 0.6528525976309104, Training Accuracy: 88.99833518312985\n",
      "Validation Loss per 100 steps: 0.4470309913158417, Validation Accuracy per: 100.0\n",
      "Validation Loss per 100 steps: 0.6691745200959762, Validation Accuracy per: 89.10891089108911\n",
      "Validation Loss per 100 steps: 0.6583241368111094, Validation Accuracy per: 89.42786069651741\n"
     ]
    },
    {
     "name": "stderr",
     "output_type": "stream",
     "text": [
      "\r",
      "901it [51:40, 41.70s/it]"
     ]
    },
    {
     "name": "stdout",
     "output_type": "stream",
     "text": [
      "Validation Loss Epoch: 0.6516793746757144, Validation Accuracy Epoch: 89.97134670487107\n"
     ]
    },
    {
     "name": "stderr",
     "output_type": "stream",
     "text": [
      "950it [52:06,  1.89it/s]"
     ]
    },
    {
     "name": "stdout",
     "output_type": "stream",
     "text": [
      "Training Loss per 50 steps: 0.6515555969360123, Training Accuracy: 89.1167192429022\n",
      "Validation Loss per 100 steps: 0.43938085436820984, Validation Accuracy per: 100.0\n",
      "Validation Loss per 100 steps: 0.6697396113730893, Validation Accuracy per: 89.10891089108911\n",
      "Validation Loss per 100 steps: 0.6584810103053478, Validation Accuracy per: 89.42786069651741\n"
     ]
    },
    {
     "name": "stderr",
     "output_type": "stream",
     "text": [
      "\r",
      "951it [54:24, 41.70s/it]"
     ]
    },
    {
     "name": "stdout",
     "output_type": "stream",
     "text": [
      "Validation Loss Epoch: 0.6515769634310525, Validation Accuracy Epoch: 89.97134670487107\n"
     ]
    },
    {
     "name": "stderr",
     "output_type": "stream",
     "text": [
      "1000it [54:50,  1.89it/s]"
     ]
    },
    {
     "name": "stdout",
     "output_type": "stream",
     "text": [
      "Training Loss per 50 steps: 0.6514814058979312, Training Accuracy: 89.1983016983017\n",
      "Validation Loss per 100 steps: 0.44115304946899414, Validation Accuracy per: 100.0\n",
      "Validation Loss per 100 steps: 0.6692290645424682, Validation Accuracy per: 89.10891089108911\n",
      "Validation Loss per 100 steps: 0.6580378036593917, Validation Accuracy per: 89.42786069651741\n"
     ]
    },
    {
     "name": "stderr",
     "output_type": "stream",
     "text": [
      "\r",
      "1001it [57:07, 41.70s/it]"
     ]
    },
    {
     "name": "stdout",
     "output_type": "stream",
     "text": [
      "Validation Loss Epoch: 0.651176254940397, Validation Accuracy Epoch: 89.97134670487107\n"
     ]
    },
    {
     "name": "stderr",
     "output_type": "stream",
     "text": [
      "1047it [57:32,  3.30s/it]"
     ]
    },
    {
     "name": "stdout",
     "output_type": "stream",
     "text": [
      "Total Accuracy Epoch 0: 89.26438977788392\n",
      "Training Loss Epoch: 0.6507179651412945, Training Accuracy Epoch: 89.26438977788392\n"
     ]
    },
    {
     "name": "stderr",
     "output_type": "stream",
     "text": [
      "\n"
     ]
    }
   ],
   "source": [
    "for epoch in range(EPOCHS):\n",
    "    train(epoch)"
   ]
  },
  {
   "cell_type": "code",
   "execution_count": 24,
   "metadata": {
    "colab": {
     "base_uri": "https://localhost:8080/"
    },
    "executionInfo": {
     "elapsed": 252289,
     "status": "ok",
     "timestamp": 1643226695946,
     "user": {
      "displayName": "Abhishek kumar Singh",
      "photoUrl": "https://lh3.googleusercontent.com/a/default-user=s64",
      "userId": "03453965687970289686"
     },
     "user_tz": -330
    },
    "id": "XRlfHpozrXDW",
    "outputId": "fb245521-7da0-434c-b52e-bcbc2b2e9ed9"
   },
   "outputs": [
    {
     "name": "stdout",
     "output_type": "stream",
     "text": [
      "Validation Loss per 100 steps: 1.0523362159729004, Validation Accuracy per: 0.0\n",
      "Validation Loss per 100 steps: 1.0477707220776247, Validation Accuracy per: 0.0\n",
      "Validation Loss per 100 steps: 1.0483255902333046, Validation Accuracy per: 0.0\n",
      "Validation Loss per 100 steps: 1.048447054485942, Validation Accuracy per: 0.0\n",
      "Validation Loss per 100 steps: 1.0483714767227743, Validation Accuracy per: 0.0\n",
      "Validation Loss Epoch: 1.0483138683195652, Validation Accuracy Epoch: 0.0\n"
     ]
    }
   ],
   "source": [
    "acc, y_true, y_pred = valid(model, testloader)"
   ]
  },
  {
   "cell_type": "code",
   "execution_count": 25,
   "metadata": {
    "colab": {
     "base_uri": "https://localhost:8080/"
    },
    "executionInfo": {
     "elapsed": 404,
     "status": "ok",
     "timestamp": 1643226728102,
     "user": {
      "displayName": "Abhishek kumar Singh",
      "photoUrl": "https://lh3.googleusercontent.com/a/default-user=s64",
      "userId": "03453965687970289686"
     },
     "user_tz": -330
    },
    "id": "nuypq3rGub0r",
    "outputId": "ede17d3a-486a-457f-8901-6e876850e179"
   },
   "outputs": [
    {
     "name": "stdout",
     "output_type": "stream",
     "text": [
      "[[   0    0]\n",
      " [3832    0]]\n",
      "              precision    recall  f1-score   support\n",
      "\n",
      "           0       0.00      0.00      0.00       0.0\n",
      "           1       0.00      0.00      0.00    3832.0\n",
      "\n",
      "    accuracy                           0.00    3832.0\n",
      "   macro avg       0.00      0.00      0.00    3832.0\n",
      "weighted avg       0.00      0.00      0.00    3832.0\n",
      "\n"
     ]
    },
    {
     "name": "stderr",
     "output_type": "stream",
     "text": [
      "/usr/local/lib/python3.7/dist-packages/sklearn/metrics/_classification.py:1318: UndefinedMetricWarning: Precision and F-score are ill-defined and being set to 0.0 in labels with no predicted samples. Use `zero_division` parameter to control this behavior.\n",
      "  _warn_prf(average, modifier, msg_start, len(result))\n",
      "/usr/local/lib/python3.7/dist-packages/sklearn/metrics/_classification.py:1318: UndefinedMetricWarning: Recall and F-score are ill-defined and being set to 0.0 in labels with no true samples. Use `zero_division` parameter to control this behavior.\n",
      "  _warn_prf(average, modifier, msg_start, len(result))\n",
      "/usr/local/lib/python3.7/dist-packages/sklearn/metrics/_classification.py:1318: UndefinedMetricWarning: Precision and F-score are ill-defined and being set to 0.0 in labels with no predicted samples. Use `zero_division` parameter to control this behavior.\n",
      "  _warn_prf(average, modifier, msg_start, len(result))\n",
      "/usr/local/lib/python3.7/dist-packages/sklearn/metrics/_classification.py:1318: UndefinedMetricWarning: Recall and F-score are ill-defined and being set to 0.0 in labels with no true samples. Use `zero_division` parameter to control this behavior.\n",
      "  _warn_prf(average, modifier, msg_start, len(result))\n",
      "/usr/local/lib/python3.7/dist-packages/sklearn/metrics/_classification.py:1318: UndefinedMetricWarning: Precision and F-score are ill-defined and being set to 0.0 in labels with no predicted samples. Use `zero_division` parameter to control this behavior.\n",
      "  _warn_prf(average, modifier, msg_start, len(result))\n",
      "/usr/local/lib/python3.7/dist-packages/sklearn/metrics/_classification.py:1318: UndefinedMetricWarning: Recall and F-score are ill-defined and being set to 0.0 in labels with no true samples. Use `zero_division` parameter to control this behavior.\n",
      "  _warn_prf(average, modifier, msg_start, len(result))\n"
     ]
    }
   ],
   "source": [
    "from sklearn.metrics import confusion_matrix\n",
    "from sklearn.metrics import accuracy_score\n",
    "accuracy = confusion_matrix(y_true, y_pred)\n",
    "print(accuracy)\n",
    "from sklearn.metrics import classification_report\n",
    "print(classification_report(y_true, y_pred))"
   ]
  },
  {
   "cell_type": "code",
   "execution_count": null,
   "metadata": {
    "id": "wMJYGyM_8vqY"
   },
   "outputs": [],
   "source": [
    "y_true"
   ]
  },
  {
   "cell_type": "code",
   "execution_count": 28,
   "metadata": {
    "executionInfo": {
     "elapsed": 419,
     "status": "ok",
     "timestamp": 1643226948210,
     "user": {
      "displayName": "Abhishek kumar Singh",
      "photoUrl": "https://lh3.googleusercontent.com/a/default-user=s64",
      "userId": "03453965687970289686"
     },
     "user_tz": -330
    },
    "id": "dLeClJNDv3Bz"
   },
   "outputs": [],
   "source": [
    "f =open('bert_roberta_small_test_1.txt', 'w')\n",
    "for i in y_pred:\n",
    "  print(i, file = f )\n",
    "f.close()\n"
   ]
  },
  {
   "cell_type": "code",
   "execution_count": null,
   "metadata": {
    "id": "Onjo6XXU9VzR"
   },
   "outputs": [],
   "source": []
  }
 ],
 "metadata": {
  "accelerator": "GPU",
  "colab": {
   "authorship_tag": "ABX9TyNj33FjugajZQ0wnihIquox",
   "collapsed_sections": [],
   "mount_file_id": "1JjXDx1-pamB8hg82DnI83PZQpf87PRWx",
   "name": "BertR.ipynb",
   "provenance": []
  },
  "kernelspec": {
   "display_name": "Python 3 (ipykernel)",
   "language": "python",
   "name": "python3"
  },
  "language_info": {
   "codemirror_mode": {
    "name": "ipython",
    "version": 3
   },
   "file_extension": ".py",
   "mimetype": "text/x-python",
   "name": "python",
   "nbconvert_exporter": "python",
   "pygments_lexer": "ipython3",
   "version": "3.9.7"
  }
 },
 "nbformat": 4,
 "nbformat_minor": 1
}
