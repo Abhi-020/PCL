{
 "cells": [
  {
   "cell_type": "code",
   "execution_count": 1,
   "id": "b0e64a90",
   "metadata": {},
   "outputs": [],
   "source": [
    "import pandas as pd\n",
    "import numpy as np\n",
    "import seaborn as sns\n",
    "import matplotlib.pyplot as plt\n",
    "%matplotlib inline\n",
    "from sklearn.naive_bayes import MultinomialNB\n",
    "#from gensim.models import Word2Vec"
   ]
  },
  {
   "cell_type": "code",
   "execution_count": 2,
   "id": "cf6ee229",
   "metadata": {},
   "outputs": [],
   "source": [
    "df = pd.read_csv('../Data/dontpatronizeme_pcl.tsv', sep = '\\t', names=['id','info','country', 'text','class'] )\n"
   ]
  },
  {
   "cell_type": "code",
   "execution_count": 17,
   "id": "dd20644b",
   "metadata": {},
   "outputs": [],
   "source": [
    "#df.head()"
   ]
  },
  {
   "cell_type": "code",
   "execution_count": 3,
   "id": "523a0aff",
   "metadata": {},
   "outputs": [
    {
     "data": {
      "text/plain": [
       "<AxesSubplot:xlabel='class', ylabel='count'>"
      ]
     },
     "execution_count": 3,
     "metadata": {},
     "output_type": "execute_result"
    },
    {
     "data": {
      "image/png": "[encoded data removed]",
      "text/plain": [
       "<Figure size 432x288 with 1 Axes>"
      ]
     },
     "metadata": {},
     "output_type": "display_data"
    }
   ],
   "source": [
    "sns.set_style('whitegrid')\n",
    "sns.countplot(x='class',data= df)"
   ]
  },
  {
   "cell_type": "code",
   "execution_count": 4,
   "id": "3d417a1b",
   "metadata": {},
   "outputs": [
    {
     "data": {
      "text/plain": [
       "0    8529\n",
       "1     947\n",
       "3     458\n",
       "4     391\n",
       "2     144\n",
       "Name: class, dtype: int64"
      ]
     },
     "execution_count": 4,
     "metadata": {},
     "output_type": "execute_result"
    }
   ],
   "source": [
    "df['class'].value_counts()"
   ]
  },
  {
   "cell_type": "code",
   "execution_count": 19,
   "id": "f9380038",
   "metadata": {},
   "outputs": [],
   "source": [
    "#sns.set_style('whitegrid')\n",
    "#sns.countplot(x='info',data= df, linewidth= 5)"
   ]
  },
  {
   "cell_type": "code",
   "execution_count": 20,
   "id": "563c624e",
   "metadata": {},
   "outputs": [],
   "source": [
    "#sns.set_style('whitegrid')\n",
    "#sns.countplot(x='class',hue='country',data=df,palette='RdBu_r')"
   ]
  },
  {
   "cell_type": "code",
   "execution_count": 21,
   "id": "b1f759cb",
   "metadata": {},
   "outputs": [],
   "source": [
    "#sns.set_style('whitegrid')\n",
    "#sns.countplot(x='class',hue='info',data=df,palette='rainbow')"
   ]
  },
  {
   "cell_type": "code",
   "execution_count": 3,
   "id": "a8ea0889",
   "metadata": {},
   "outputs": [
    {
     "name": "stdout",
     "output_type": "stream",
     "text": [
      "10468\n",
      "10469\n"
     ]
    }
   ],
   "source": [
    "print(df['text'].count())\n",
    "print(df['info'].count())"
   ]
  },
  {
   "cell_type": "code",
   "execution_count": 4,
   "id": "25b3106b",
   "metadata": {},
   "outputs": [],
   "source": [
    "df = df.dropna(inplace = False)"
   ]
  },
  {
   "cell_type": "code",
   "execution_count": 5,
   "id": "852fbbed",
   "metadata": {},
   "outputs": [
    {
     "name": "stdout",
     "output_type": "stream",
     "text": [
      "<class 'pandas.core.frame.DataFrame'>\n",
      "RangeIndex: 10468 entries, 0 to 10467\n",
      "Data columns (total 5 columns):\n",
      " #   Column   Non-Null Count  Dtype \n",
      "---  ------   --------------  ----- \n",
      " 0   id       10468 non-null  object\n",
      " 1   info     10468 non-null  object\n",
      " 2   country  10468 non-null  object\n",
      " 3   text     10468 non-null  object\n",
      " 4   class    10468 non-null  int64 \n",
      "dtypes: int64(1), object(4)\n",
      "memory usage: 409.0+ KB\n"
     ]
    }
   ],
   "source": [
    "df = df.reset_index(drop = True)\n",
    "df.info()"
   ]
  },
  {
   "cell_type": "code",
   "execution_count": 6,
   "id": "a639a280",
   "metadata": {},
   "outputs": [
    {
     "name": "stderr",
     "output_type": "stream",
     "text": [
      "[nltk_data] Downloading package stopwords to C:\\Users\\Preetam\n",
      "[nltk_data]     Singh\\AppData\\Roaming\\nltk_data...\n",
      "[nltk_data]   Package stopwords is already up-to-date!\n"
     ]
    }
   ],
   "source": [
    "import re\n",
    "import nltk\n",
    "\n",
    "nltk.download('stopwords')\n",
    "\n",
    "from nltk.corpus import stopwords\n",
    "from nltk.stem.porter import PorterStemmer\n",
    "\n",
    "ps = PorterStemmer()\n",
    "\n",
    "all_stopwords = stopwords.words('english')\n",
    "all_stopwords.remove('not')"
   ]
  },
  {
   "cell_type": "code",
   "execution_count": 7,
   "id": "07a8ba8f",
   "metadata": {},
   "outputs": [
    {
     "name": "stderr",
     "output_type": "stream",
     "text": [
      "100%|██████████████████████████████████████████████████████████████████████████| 10468/10468 [00:05<00:00, 1992.18it/s]\n"
     ]
    }
   ],
   "source": [
    "corpus =[]\n",
    "from tqdm import tqdm \n",
    "for i in tqdm(range(0,10468)):\n",
    "    \n",
    "    review = re.sub('[^a-zA-Z]',' ', df['text'][i])\n",
    "    review = review.lower()\n",
    "    review = review.split()\n",
    "    review = [ps.stem(word) for word in review if not word in set (all_stopwords)]\n",
    "    review =' '.join(review)\n",
    "    corpus.append(review)\n",
    "    "
   ]
  },
  {
   "cell_type": "code",
   "execution_count": 7,
   "id": "908db300",
   "metadata": {},
   "outputs": [],
   "source": [
    "#corpus"
   ]
  },
  {
   "cell_type": "code",
   "execution_count": 77,
   "id": "76de02e4",
   "metadata": {},
   "outputs": [],
   "source": [
    "#cf = [i for i in range(50,1000,50)]\n",
    "#ac = []\n",
    "\n",
    "#for i in cf:\n",
    "  #  cv = CountVectorizer( max_features = i)\n",
    "    \n",
    "   # X = cv.fit_transform(corpus).toarray()\n",
    "   # y = df.iloc[:,-1].values\n",
    "    \n",
    "   # X_train, X_test, y_train_task1, y_test_task1 = train_test_split(X, y, test_size = 0.20, random_state= 0)\n",
    "    \n",
    "   # classifier = GaussianNB()\n",
    "   # classifier = MultinomialNB()\n",
    "   # classifier.fit (X_train, y_train_task1)\n",
    "    \n",
    "   # y_pred = classifier.predict(X_test)\n",
    "   # print(f'feature count {i}, {accuracy_score(y_test_task1, y_pred)}')\n",
    "  #  ac.append([i,accuracy_score(y_test_task1, y_pred)])\n",
    "    "
   ]
  },
  {
   "cell_type": "code",
   "execution_count": 8,
   "id": "8e75a5ce",
   "metadata": {},
   "outputs": [],
   "source": [
    "from sklearn.feature_extraction.text import CountVectorizer\n",
    "from sklearn.feature_extraction.text import TfidfVectorizer\n",
    "\n",
    "cv = TfidfVectorizer(min_df=1,stop_words='english')\n",
    "X = cv.fit_transform(corpus).toarray()\n",
    "y = df.iloc[:,-1].values"
   ]
  },
  {
   "cell_type": "code",
   "execution_count": 9,
   "id": "86d3841f",
   "metadata": {},
   "outputs": [
    {
     "data": {
      "text/plain": [
       "array([0, 0, 0, ..., 3, 4, 3], dtype=int64)"
      ]
     },
     "execution_count": 9,
     "metadata": {},
     "output_type": "execute_result"
    }
   ],
   "source": [
    "y"
   ]
  },
  {
   "cell_type": "code",
   "execution_count": 9,
   "id": "7b50e89c",
   "metadata": {},
   "outputs": [],
   "source": [
    "from sklearn.model_selection import train_test_split\n",
    "X_train, X_test, y_train, y_test = train_test_split(X, y, test_size = 0.20, random_state= 0)\n",
    "    \n",
    "   "
   ]
  },
  {
   "cell_type": "code",
   "execution_count": 10,
   "id": "d437be0c",
   "metadata": {},
   "outputs": [],
   "source": [
    "y_train_task1 = [ 0 if (y == 1 or y == 0) else 1 for y in y_train ]\n",
    "y_test_task1 = [ 0 if (y == 1 or y == 0) else 1 for y in y_test ]"
   ]
  },
  {
   "cell_type": "code",
   "execution_count": 11,
   "id": "061a9cee",
   "metadata": {},
   "outputs": [],
   "source": [
    "#from sklearn.linear_model import LogisticRegression\n",
    "#logmodel = LogisticRegression(max_iter=800)\n",
    "#logmodel.fit(X_train, y_train)"
   ]
  },
  {
   "cell_type": "code",
   "execution_count": null,
   "id": "852824fc",
   "metadata": {},
   "outputs": [],
   "source": []
  },
  {
   "cell_type": "code",
   "execution_count": 12,
   "id": "09305526",
   "metadata": {},
   "outputs": [
    {
     "data": {
      "text/plain": [
       "GaussianNB()"
      ]
     },
     "execution_count": 12,
     "metadata": {},
     "output_type": "execute_result"
    }
   ],
   "source": [
    "from sklearn.naive_bayes import MultinomialNB\n",
    "from sklearn.naive_bayes import GaussianNB\n",
    "#classifier = MultinomialNB()\n",
    "classifier = GaussianNB() \n",
    "classifier.fit(X_train, y_train_task1)"
   ]
  },
  {
   "cell_type": "code",
   "execution_count": 14,
   "id": "102c4211",
   "metadata": {},
   "outputs": [
    {
     "name": "stdout",
     "output_type": "stream",
     "text": [
      "[[1604  286]\n",
      " [ 164   40]]\n"
     ]
    }
   ],
   "source": [
    "y_pred = classifier.predict(X_test)\n",
    "\n",
    "from sklearn.metrics import confusion_matrix, accuracy_score\n",
    "cm = confusion_matrix(y_test_task1, y_pred)\n",
    "print(cm)\n",
    "\n"
   ]
  },
  {
   "cell_type": "code",
   "execution_count": 15,
   "id": "39dfc199",
   "metadata": {},
   "outputs": [
    {
     "data": {
      "text/plain": [
       "0.7851002865329513"
      ]
     },
     "execution_count": 15,
     "metadata": {},
     "output_type": "execute_result"
    }
   ],
   "source": [
    "accuracy_score(y_test_task1, y_pred)"
   ]
  },
  {
   "cell_type": "code",
   "execution_count": null,
   "id": "c3ac9fb6",
   "metadata": {},
   "outputs": [],
   "source": [
    "\n",
    "\n"
   ]
  },
  {
   "cell_type": "markdown",
   "id": "56522245",
   "metadata": {},
   "source": [
    "TF- IDF\n"
   ]
  },
  {
   "cell_type": "code",
   "execution_count": 16,
   "id": "1eda317d",
   "metadata": {
    "scrolled": false
   },
   "outputs": [
    {
     "name": "stdout",
     "output_type": "stream",
     "text": [
      "              precision    recall  f1-score   support\n",
      "\n",
      "           0       0.91      0.85      0.88      1890\n",
      "           1       0.12      0.20      0.15       204\n",
      "\n",
      "    accuracy                           0.79      2094\n",
      "   macro avg       0.51      0.52      0.51      2094\n",
      "weighted avg       0.83      0.79      0.81      2094\n",
      "\n"
     ]
    }
   ],
   "source": [
    "from sklearn.metrics import classification_report\n",
    "print(classification_report(y_test_task1, y_pred))"
   ]
  },
  {
   "cell_type": "markdown",
   "id": "60b30cbb",
   "metadata": {},
   "source": [
    "|Models|Description|Precion|Recall|weighted average F1|Accuracy F1|Remark|\n",
    "|---|---|---|---|---|---|---|\n",
    "|MultinomialNB|TFIDF Feature|.81|.90|.86|90|No inference for class 1 i.e class 2,3,4. CM - (1,2)0 & (2,2) 0|\n",
    "|GaussianNB|TFIDF Feature|.83|.79|.81|79|Higher biased towards 0,|\n",
    "|GaussianNB|CV Feature|.87|.53|.62|53|CLASS 0 HIGLY BIASED RESULT DERIVED MORE FROM CLASS 0 & 1|\n",
    "|MultinomialNB|CV Feature|.87|.87|.87|.87|1. overall accc,pre,re is stable throughout.2.class 2 doesn,t given any weightage|\n",
    "|GaussianNB|Gensim word2vec||||||"
   ]
  },
  {
   "cell_type": "code",
   "execution_count": 96,
   "id": "46fea06f",
   "metadata": {},
   "outputs": [
    {
     "data": {
      "text/plain": [
       "20244"
      ]
     },
     "execution_count": 96,
     "metadata": {},
     "output_type": "execute_result"
    }
   ],
   "source": [
    "len(cv.get_feature_names())\n"
   ]
  },
  {
   "cell_type": "code",
   "execution_count": 78,
   "id": "a58a5b41",
   "metadata": {},
   "outputs": [],
   "source": [
    "#X_train.inverse_transform(X_train[0])\n"
   ]
  },
  {
   "cell_type": "markdown",
   "id": "b13d0508",
   "metadata": {},
   "source": [
    "Dividing dataset into train and test\n"
   ]
  },
  {
   "cell_type": "code",
   "execution_count": 95,
   "id": "c106dc22",
   "metadata": {},
   "outputs": [],
   "source": [
    "#np.array(X_train.iloc[0])"
   ]
  },
  {
   "cell_type": "code",
   "execution_count": 59,
   "id": "30598bc2",
   "metadata": {},
   "outputs": [
    {
     "data": {
      "text/plain": [
       "8374"
      ]
     },
     "execution_count": 59,
     "metadata": {},
     "output_type": "execute_result"
    }
   ],
   "source": [
    "len(X_train)"
   ]
  },
  {
   "cell_type": "code",
   "execution_count": 72,
   "id": "608779b3",
   "metadata": {},
   "outputs": [
    {
     "data": {
      "text/plain": [
       "8374"
      ]
     },
     "execution_count": 72,
     "metadata": {},
     "output_type": "execute_result"
    }
   ],
   "source": [
    "len(y_train_task1)"
   ]
  },
  {
   "cell_type": "code",
   "execution_count": 75,
   "id": "75ef9469",
   "metadata": {},
   "outputs": [
    {
     "data": {
      "text/plain": [
       "array([1, 2, 4, ..., 3, 3, 4], dtype=int64)"
      ]
     },
     "execution_count": 75,
     "metadata": {},
     "output_type": "execute_result"
    }
   ],
   "source": [
    "y_pred"
   ]
  },
  {
   "cell_type": "code",
   "execution_count": 26,
   "id": "15c00d3c",
   "metadata": {
    "collapsed": true
   },
   "outputs": [
    {
     "data": {
      "text/plain": [
       "array([0, 0, 0, 0, 0, 0, 0, 0, 0, 0, 0, 0, 0, 0, 0, 0, 0, 0, 0, 0, 0, 0,\n",
       "       0, 0, 0, 0, 0, 1, 0, 0, 0, 0, 0, 0, 0, 0, 0, 0, 0, 0, 0, 0, 0, 0,\n",
       "       0, 0, 0, 0, 0, 0, 0, 0, 0, 0, 0, 0, 0, 0, 0, 0, 0, 0, 0, 0, 0, 0,\n",
       "       0, 0, 0, 0, 0, 0, 0, 0, 0, 0, 0, 0, 0, 0, 0, 0, 0, 0, 0, 0, 0, 0,\n",
       "       0, 0, 0, 0, 0, 0, 0, 0, 0, 0, 0, 0, 0, 0, 0, 0, 0, 0, 0, 0, 0, 0,\n",
       "       0, 0, 0, 0, 0, 0, 0, 0, 0, 0, 0, 0, 0, 0, 0, 0, 0, 0, 0, 0, 0, 0,\n",
       "       0, 0, 0, 0, 0, 0, 0, 0, 0, 0, 0, 0, 0, 0, 0, 0, 0, 0, 0, 0, 0, 0,\n",
       "       0, 0, 0, 0, 0, 0, 0, 0, 0, 0, 0, 0, 0, 0, 0, 0, 0, 0, 0, 0, 0, 0,\n",
       "       0, 0, 0, 0, 0, 0, 0, 0, 0, 0, 0, 0, 0, 0, 0, 0, 0, 0, 0, 0, 0, 0,\n",
       "       0, 0, 0, 0, 0, 0, 0, 0, 0, 0, 0, 0, 0, 0, 0, 0, 0, 0, 0, 0, 0, 0,\n",
       "       0, 0, 0, 0, 0, 0, 0, 0, 0, 0, 0, 0, 0, 0, 0, 0, 0, 0, 0, 0, 0, 0,\n",
       "       0, 0, 0, 0, 0, 0, 0, 0, 0, 0, 0, 0, 0, 0, 0, 0, 0, 0, 0, 0, 0, 0,\n",
       "       0, 0, 0, 0, 0, 0, 0, 0, 0, 0, 0, 0, 0, 0, 0, 0, 0, 0, 0, 0, 0, 0,\n",
       "       0, 0, 0, 0, 0, 0, 0, 0, 0, 0, 0, 0, 0, 0, 0, 0, 0, 0, 0, 0, 0, 0,\n",
       "       0, 0, 0, 0, 0, 0, 0, 0, 0, 0, 0, 0, 0, 0, 0, 0, 0, 0, 0, 0, 0, 0,\n",
       "       0, 0, 0, 0, 0, 0, 0, 0, 0, 0, 0, 0, 0, 0, 0, 0, 0, 0, 0, 0, 0, 0,\n",
       "       0, 0, 0, 0, 0, 0, 0, 0, 0, 0, 0, 0, 0, 0, 0, 0, 0, 0, 0, 0, 0, 0,\n",
       "       0, 0, 0, 0, 0, 0, 0, 0, 0, 0, 0, 0, 0, 0, 0, 0, 0, 0, 0, 0, 0, 0,\n",
       "       0, 0, 0, 0, 0, 0, 0, 0, 0, 0, 0, 0, 0, 0, 0, 1, 0, 0, 0, 0, 0, 0,\n",
       "       0, 0, 0, 0, 0, 0, 0, 0, 0, 0, 0, 0, 0, 0, 0, 0, 0, 0, 0, 0, 0, 0,\n",
       "       0, 0, 0, 0, 0, 0, 0, 0, 0, 0, 0, 0, 0, 1, 0, 0, 0, 0, 0, 0, 0, 0,\n",
       "       0, 0, 0, 0, 0, 0, 0, 0, 0, 0, 0, 0, 0, 0, 0, 0, 0, 0, 0, 0, 0, 0,\n",
       "       0, 0, 0, 0, 0, 0, 0, 0, 0, 0, 0, 0, 0, 0, 0, 0, 0, 0, 0, 0, 0, 0,\n",
       "       1, 0, 0, 0, 0, 0, 0, 0, 0, 0, 0, 0, 0, 0, 0, 0, 0, 0, 0, 0, 0, 0,\n",
       "       0, 0, 0, 0, 0, 0, 0, 0, 0, 0, 0, 0, 0, 0, 0, 0, 0, 0, 0, 0, 0, 0,\n",
       "       0, 0, 0, 0, 0, 0, 0, 0, 0, 0, 0, 0, 0, 0, 0, 0, 0, 0, 0, 0, 0, 0,\n",
       "       0, 0, 0, 0, 0, 0, 0, 0, 0, 0, 0, 0, 0, 0, 0, 0, 0, 0, 0, 0, 0, 0,\n",
       "       0, 0, 0, 0, 0, 0, 0, 0, 0, 0, 0, 0, 0, 0, 0, 0, 0, 0, 0, 0, 0, 0,\n",
       "       0, 0, 0, 0, 0, 0, 0, 0, 0, 0, 0, 0, 0, 0, 0, 0, 0, 1, 0, 0, 0, 0,\n",
       "       0, 0, 0, 0, 0, 0, 0, 0, 0, 0, 0, 0, 0, 0, 0, 0, 0, 0, 0, 0, 0, 0,\n",
       "       0, 0, 0, 0, 0, 0, 0, 0, 0, 0, 0, 0, 0, 0, 0, 0, 0, 0, 0, 0, 0, 0,\n",
       "       0, 0, 0, 0, 0, 0, 2, 0, 0, 0, 0, 0, 0, 0, 0, 0, 0, 0, 0, 0, 0, 0,\n",
       "       0, 0, 0, 0, 0, 0, 0, 0, 0, 0, 0, 0, 0, 0, 0, 0, 0, 0, 0, 0, 0, 0,\n",
       "       0, 0, 0, 0, 0, 0, 0, 0, 0, 0, 0, 0, 0, 0, 0, 0, 0, 0, 0, 0, 0, 0,\n",
       "       0, 0, 0, 0, 0, 0, 0, 0, 0, 0, 0, 0, 0, 0, 0, 0, 0, 0, 0, 0, 0, 0,\n",
       "       0, 0, 0, 0, 0, 0, 0, 0, 0, 0, 0, 0, 0, 0, 0, 0, 0, 0, 0, 1, 0, 0,\n",
       "       0, 0, 0, 0, 1, 0, 0, 0, 0, 0, 0, 0, 0, 0, 0, 0, 0, 0, 0, 0, 0, 0,\n",
       "       0, 0, 0, 0, 0, 0, 0, 0, 0, 0, 0, 0, 0, 0, 0, 0, 0, 0, 0, 0, 0, 0,\n",
       "       0, 0, 0, 0, 0, 0, 0, 0, 0, 0, 0, 0, 0, 0, 0, 0, 0, 0, 0, 0, 0, 0,\n",
       "       0, 0, 1, 0, 0, 0, 0, 0, 0, 0, 0, 0, 0, 0, 0, 0, 0, 0, 0, 0, 0, 0,\n",
       "       0, 0, 0, 0, 1, 0, 0, 0, 0, 0, 0, 0, 0, 0, 0, 0, 0, 0, 0, 1, 0, 0,\n",
       "       0, 0, 0, 0, 0, 0, 0, 0, 0, 0, 0, 0, 0, 0, 0, 0, 0, 0, 0, 0, 0, 0,\n",
       "       0, 0, 0, 0, 0, 0, 0, 0, 0, 0, 0, 0, 0, 0, 0, 0, 0, 0, 0, 0, 0, 0,\n",
       "       0, 0, 0, 0], dtype=int64)"
      ]
     },
     "execution_count": 26,
     "metadata": {},
     "output_type": "execute_result"
    }
   ],
   "source": [
    "X_test[0]\n"
   ]
  },
  {
   "cell_type": "code",
   "execution_count": null,
   "id": "38527556",
   "metadata": {},
   "outputs": [],
   "source": []
  },
  {
   "cell_type": "code",
   "execution_count": null,
   "id": "44a8a6d9",
   "metadata": {},
   "outputs": [],
   "source": []
  },
  {
   "cell_type": "code",
   "execution_count": null,
   "id": "43b4d5af",
   "metadata": {},
   "outputs": [],
   "source": []
  },
  {
   "cell_type": "code",
   "execution_count": null,
   "id": "b3900fa8",
   "metadata": {},
   "outputs": [],
   "source": []
  },
  {
   "cell_type": "code",
   "execution_count": null,
   "id": "2a396e01",
   "metadata": {},
   "outputs": [],
   "source": []
  },
  {
   "cell_type": "code",
   "execution_count": null,
   "id": "56548a9c",
   "metadata": {},
   "outputs": [],
   "source": []
  },
  {
   "cell_type": "code",
   "execution_count": null,
   "id": "fe72f41e",
   "metadata": {},
   "outputs": [],
   "source": []
  },
  {
   "cell_type": "code",
   "execution_count": null,
   "id": "34f19b57",
   "metadata": {},
   "outputs": [],
   "source": []
  },
  {
   "cell_type": "code",
   "execution_count": 39,
   "id": "ee4216f4",
   "metadata": {},
   "outputs": [],
   "source": [
    "#weighted array\n",
    "#wt_array =len(X_train)/(len(set(y_train))*(np.bincount(y_train)))"
   ]
  },
  {
   "cell_type": "markdown",
   "id": "0d2ed2ce",
   "metadata": {},
   "source": [
    "WORD2VEC"
   ]
  },
  {
   "cell_type": "code",
   "execution_count": 20,
   "id": "8cbe0e55",
   "metadata": {},
   "outputs": [],
   "source": [
    "import gensim\n",
    "from gensim.models import Word2Vec"
   ]
  },
  {
   "cell_type": "code",
   "execution_count": 21,
   "id": "615225b5",
   "metadata": {},
   "outputs": [],
   "source": [
    "model = Word2Vec(corpus, min_count = 1)"
   ]
  },
  {
   "cell_type": "code",
   "execution_count": 22,
   "id": "26e1ea58",
   "metadata": {},
   "outputs": [
    {
     "data": {
      "text/plain": [
       "0        [we, re, living, in, times, of, absolute, insa...\n",
       "1        [in, libya, today, there, are, countless, numb...\n",
       "2        [white, house, press, secretary, sean, spicer,...\n",
       "3        [council, customers, only, signs, would, be, d...\n",
       "4        [just, like, we, received, migrants, fleeing, ...\n",
       "                               ...                        \n",
       "10463    [sri, lankan, norms, and, culture, inhibit, wo...\n",
       "10464    [he, added, that, the, afp, will, continue, to...\n",
       "10465    [she, has, one, huge, platform, and, informati...\n",
       "10466    [anja, ringgren, loven, ca, find, word, to, de...\n",
       "10467    [guinness, world, record, of, lbs, of, layer, ...\n",
       "Name: text, Length: 10468, dtype: object"
      ]
     },
     "execution_count": 22,
     "metadata": {},
     "output_type": "execute_result"
    }
   ],
   "source": [
    "post_text = df.text.apply(gensim.utils.simple_preprocess)\n",
    "post_text"
   ]
  },
  {
   "cell_type": "code",
   "execution_count": 23,
   "id": "7f588554",
   "metadata": {},
   "outputs": [],
   "source": [
    "model = gensim.models.Word2Vec(window = 10, min_count =2, workers=4)"
   ]
  },
  {
   "cell_type": "code",
   "execution_count": 24,
   "id": "673acd40",
   "metadata": {},
   "outputs": [],
   "source": [
    "model.build_vocab(post_text, progress_per = 1000)"
   ]
  },
  {
   "cell_type": "code",
   "execution_count": 25,
   "id": "37b3e0a4",
   "metadata": {},
   "outputs": [
    {
     "data": {
      "text/plain": [
       "5"
      ]
     },
     "execution_count": 25,
     "metadata": {},
     "output_type": "execute_result"
    }
   ],
   "source": [
    "model.epochs"
   ]
  },
  {
   "cell_type": "code",
   "execution_count": 26,
   "id": "f2dac3ce",
   "metadata": {},
   "outputs": [
    {
     "data": {
      "text/plain": [
       "10468"
      ]
     },
     "execution_count": 26,
     "metadata": {},
     "output_type": "execute_result"
    }
   ],
   "source": [
    "model.corpus_count"
   ]
  },
  {
   "cell_type": "code",
   "execution_count": 27,
   "id": "1617a332",
   "metadata": {},
   "outputs": [
    {
     "data": {
      "text/plain": [
       "(1644520, 2178930)"
      ]
     },
     "execution_count": 27,
     "metadata": {},
     "output_type": "execute_result"
    }
   ],
   "source": [
    "model.train(post_text, total_examples = model.corpus_count, epochs = model.epochs)"
   ]
  },
  {
   "cell_type": "code",
   "execution_count": 28,
   "id": "fcd1b197",
   "metadata": {},
   "outputs": [
    {
     "data": {
      "text/plain": [
       "[('sure', 0.9866011142730713),\n",
       " ('hope', 0.9862893223762512),\n",
       " ('stuff', 0.9826447367668152),\n",
       " ('sorry', 0.982018768787384),\n",
       " ('hard', 0.9809484481811523),\n",
       " ('likes', 0.9793945550918579),\n",
       " ('ask', 0.9788172841072083),\n",
       " ('why', 0.978492796421051),\n",
       " ('reason', 0.9784795641899109),\n",
       " ('someone', 0.9784430265426636)]"
      ]
     },
     "execution_count": 28,
     "metadata": {},
     "output_type": "execute_result"
    }
   ],
   "source": [
    "model.wv.most_similar(\"good\")"
   ]
  },
  {
   "cell_type": "code",
   "execution_count": 29,
   "id": "84f49874",
   "metadata": {},
   "outputs": [
    {
     "data": {
      "text/plain": [
       "0.60127723"
      ]
     },
     "execution_count": 29,
     "metadata": {},
     "output_type": "execute_result"
    }
   ],
   "source": [
    "model.wv.similarity(w1 =\"king\", w2=\"women\")"
   ]
  },
  {
   "cell_type": "code",
   "execution_count": null,
   "id": "e2bc1e9f",
   "metadata": {},
   "outputs": [],
   "source": []
  },
  {
   "cell_type": "code",
   "execution_count": 47,
   "id": "b43f23a1",
   "metadata": {},
   "outputs": [],
   "source": [
    "from sklearn.model_selection import train_test_split\n",
    "X_train, X_test, y_train, y_test = train_test_split(X, y, test_size = 0.20, random_state= 0)\n"
   ]
  },
  {
   "cell_type": "code",
   "execution_count": 48,
   "id": "ca06aa24",
   "metadata": {},
   "outputs": [
    {
     "data": {
      "text/plain": [
       "MultinomialNB()"
      ]
     },
     "execution_count": 48,
     "metadata": {},
     "output_type": "execute_result"
    }
   ],
   "source": [
    "from sklearn.naive_bayes import MultinomialNB\n",
    "classifier = MultinomialNB()\n",
    "classifier.fit (X_train, y_train)"
   ]
  },
  {
   "cell_type": "code",
   "execution_count": 49,
   "id": "423850d7",
   "metadata": {},
   "outputs": [
    {
     "name": "stdout",
     "output_type": "stream",
     "text": [
      "[[1548   79   12   30   41]\n",
      " [ 125   20    3   15   17]\n",
      " [  22    5    0    2    4]\n",
      " [  44   19    2   11   11]\n",
      " [  41    9    3   14   17]]\n"
     ]
    }
   ],
   "source": [
    "y_pred = classifier.predict(X_test)\n",
    "\n",
    "from sklearn.metrics import confusion_matrix, accuracy_score\n",
    "cm = confusion_matrix(y_test, y_pred)\n",
    "print(cm)\n"
   ]
  },
  {
   "cell_type": "code",
   "execution_count": 46,
   "id": "3fedfd5a",
   "metadata": {},
   "outputs": [
    {
     "data": {
      "text/plain": [
       "0.7621776504297995"
      ]
     },
     "execution_count": 46,
     "metadata": {},
     "output_type": "execute_result"
    }
   ],
   "source": [
    "accuracy_score(y_test, y_pred)"
   ]
  },
  {
   "cell_type": "code",
   "execution_count": null,
   "id": "e0e8f360",
   "metadata": {},
   "outputs": [],
   "source": []
  }
 ],
 "metadata": {
  "kernelspec": {
   "display_name": "Python 3 (ipykernel)",
   "language": "python",
   "name": "python3"
  },
  "language_info": {
   "codemirror_mode": {
    "name": "ipython",
    "version": 3
   },
   "file_extension": ".py",
   "mimetype": "text/x-python",
   "name": "python",
   "nbconvert_exporter": "python",
   "pygments_lexer": "ipython3",
   "version": "3.9.7"
  }
 },
 "nbformat": 4,
 "nbformat_minor": 5
}
