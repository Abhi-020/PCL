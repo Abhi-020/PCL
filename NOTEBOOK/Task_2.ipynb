{
 "cells": [
  {
   "cell_type": "code",
   "execution_count": 13,
   "id": "f15daeda",
   "metadata": {},
   "outputs": [],
   "source": [
    "import pandas as pd\n",
    "import numpy as np"
   ]
  },
  {
   "cell_type": "code",
   "execution_count": 14,
   "id": "d7df3afa",
   "metadata": {},
   "outputs": [],
   "source": [
    "df = pd.read_csv('../Data/task_2.tsv', sep = '\\t', names=['paragraph_id','article_id','paragraph', 'keyword','country_code','span_start','span_end','span_text','category_label',  'number_of_annotators_agreeing_on_that_label'] ).iloc[3:,:]"
   ]
  },
  {
   "cell_type": "code",
   "execution_count": 15,
   "id": "374cdee4",
   "metadata": {},
   "outputs": [
    {
     "data": {
      "text/html": [
       "<div>\n",
       "<style scoped>\n",
       "    .dataframe tbody tr th:only-of-type {\n",
       "        vertical-align: middle;\n",
       "    }\n",
       "\n",
       "    .dataframe tbody tr th {\n",
       "        vertical-align: top;\n",
       "    }\n",
       "\n",
       "    .dataframe thead th {\n",
       "        text-align: right;\n",
       "    }\n",
       "</style>\n",
       "<table border=\"1\" class=\"dataframe\">\n",
       "  <thead>\n",
       "    <tr style=\"text-align: right;\">\n",
       "      <th></th>\n",
       "      <th>paragraph_id</th>\n",
       "      <th>article_id</th>\n",
       "      <th>paragraph</th>\n",
       "      <th>keyword</th>\n",
       "      <th>country_code</th>\n",
       "      <th>span_start</th>\n",
       "      <th>span_end</th>\n",
       "      <th>span_text</th>\n",
       "      <th>category_label</th>\n",
       "      <th>number_of_annotators_agreeing_on_that_label</th>\n",
       "    </tr>\n",
       "  </thead>\n",
       "  <tbody>\n",
       "    <tr>\n",
       "      <th>3</th>\n",
       "      <td>4046</td>\n",
       "      <td>@@14767805</td>\n",
       "      <td>We also know that they can benefit by receivin...</td>\n",
       "      <td>hopeless</td>\n",
       "      <td>us</td>\n",
       "      <td>201.0</td>\n",
       "      <td>236.0</td>\n",
       "      <td>put their situation in perspective</td>\n",
       "      <td>Authority_voice</td>\n",
       "      <td>2.0</td>\n",
       "    </tr>\n",
       "    <tr>\n",
       "      <th>4</th>\n",
       "      <td>4046</td>\n",
       "      <td>@@14767805</td>\n",
       "      <td>We also know that they can benefit by receivin...</td>\n",
       "      <td>hopeless</td>\n",
       "      <td>us</td>\n",
       "      <td>240.0</td>\n",
       "      <td>274.0</td>\n",
       "      <td>help them communicate with others</td>\n",
       "      <td>Unbalanced_power_relations</td>\n",
       "      <td>2.0</td>\n",
       "    </tr>\n",
       "    <tr>\n",
       "      <th>5</th>\n",
       "      <td>4046</td>\n",
       "      <td>@@14767805</td>\n",
       "      <td>We also know that they can benefit by receivin...</td>\n",
       "      <td>hopeless</td>\n",
       "      <td>us</td>\n",
       "      <td>274.0</td>\n",
       "      <td>300.0</td>\n",
       "      <td>who could provide support</td>\n",
       "      <td>Unbalanced_power_relations</td>\n",
       "      <td>1.0</td>\n",
       "    </tr>\n",
       "    <tr>\n",
       "      <th>6</th>\n",
       "      <td>4046</td>\n",
       "      <td>@@14767805</td>\n",
       "      <td>We also know that they can benefit by receivin...</td>\n",
       "      <td>hopeless</td>\n",
       "      <td>us</td>\n",
       "      <td>384.0</td>\n",
       "      <td>434.0</td>\n",
       "      <td>plan for their needs and the needs of their child</td>\n",
       "      <td>Authority_voice</td>\n",
       "      <td>2.0</td>\n",
       "    </tr>\n",
       "    <tr>\n",
       "      <th>7</th>\n",
       "      <td>4046</td>\n",
       "      <td>@@14767805</td>\n",
       "      <td>We also know that they can benefit by receivin...</td>\n",
       "      <td>hopeless</td>\n",
       "      <td>us</td>\n",
       "      <td>0.0</td>\n",
       "      <td>35.0</td>\n",
       "      <td>We also know that they can benefit</td>\n",
       "      <td>Unbalanced_power_relations</td>\n",
       "      <td>1.0</td>\n",
       "    </tr>\n",
       "  </tbody>\n",
       "</table>\n",
       "</div>"
      ],
      "text/plain": [
       "  paragraph_id  article_id                                          paragraph  \\\n",
       "3         4046  @@14767805  We also know that they can benefit by receivin...   \n",
       "4         4046  @@14767805  We also know that they can benefit by receivin...   \n",
       "5         4046  @@14767805  We also know that they can benefit by receivin...   \n",
       "6         4046  @@14767805  We also know that they can benefit by receivin...   \n",
       "7         4046  @@14767805  We also know that they can benefit by receivin...   \n",
       "\n",
       "    keyword country_code  span_start  span_end  \\\n",
       "3  hopeless           us       201.0     236.0   \n",
       "4  hopeless           us       240.0     274.0   \n",
       "5  hopeless           us       274.0     300.0   \n",
       "6  hopeless           us       384.0     434.0   \n",
       "7  hopeless           us         0.0      35.0   \n",
       "\n",
       "                                           span_text  \\\n",
       "3                 put their situation in perspective   \n",
       "4                  help them communicate with others   \n",
       "5                          who could provide support   \n",
       "6  plan for their needs and the needs of their child   \n",
       "7                 We also know that they can benefit   \n",
       "\n",
       "               category_label  number_of_annotators_agreeing_on_that_label  \n",
       "3             Authority_voice                                          2.0  \n",
       "4  Unbalanced_power_relations                                          2.0  \n",
       "5  Unbalanced_power_relations                                          1.0  \n",
       "6             Authority_voice                                          2.0  \n",
       "7  Unbalanced_power_relations                                          1.0  "
      ]
     },
     "execution_count": 15,
     "metadata": {},
     "output_type": "execute_result"
    }
   ],
   "source": [
    "df.head()"
   ]
  },
  {
   "cell_type": "code",
   "execution_count": 12,
   "id": "6c88544f",
   "metadata": {},
   "outputs": [
    {
     "data": {
      "text/plain": [
       "Unbalanced_power_relations    968\n",
       "Compassion                    682\n",
       "Presupposition                296\n",
       "Authority_voice               285\n",
       "Metaphors                     250\n",
       "Shallow_solution              227\n",
       "The_poorer_the_merrier         52\n",
       "Name: category_label, dtype: int64"
      ]
     },
     "execution_count": 12,
     "metadata": {},
     "output_type": "execute_result"
    }
   ],
   "source": [
    "df['category_label'].value_counts()"
   ]
  },
  {
   "cell_type": "code",
   "execution_count": null,
   "id": "48440afa",
   "metadata": {},
   "outputs": [],
   "source": []
  }
 ],
 "metadata": {
  "kernelspec": {
   "display_name": "Python 3 (ipykernel)",
   "language": "python",
   "name": "python3"
  },
  "language_info": {
   "codemirror_mode": {
    "name": "ipython",
    "version": 3
   },
   "file_extension": ".py",
   "mimetype": "text/x-python",
   "name": "python",
   "nbconvert_exporter": "python",
   "pygments_lexer": "ipython3",
   "version": "3.9.7"
  }
 },
 "nbformat": 4,
 "nbformat_minor": 5
}
